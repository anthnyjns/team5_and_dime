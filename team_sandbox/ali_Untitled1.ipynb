{
 "cells": [
  {
   "cell_type": "code",
   "execution_count": 4,
   "metadata": {},
   "outputs": [
    {
     "name": "stdout",
     "output_type": "stream",
     "text": [
      "74\n"
     ]
    },
    {
     "data": {
      "text/plain": [
       "Pedestrian       31\n",
       "MOTOR VEHICLE    27\n",
       "Motorcycle        9\n",
       "Motor Vehicle     4\n",
       "Bicycle           2\n",
       "Name: Type, dtype: int64"
      ]
     },
     "execution_count": 4,
     "metadata": {},
     "output_type": "execute_result"
    }
   ],
   "source": [
    "#Fatality study Austin,TX\n",
    "import pandas as pd\n",
    "import numpy as np\n",
    "import matplotlib.pyplot as plt\n",
    "file_one = \"Resources/2018_APD_Traffic_Fatality_Data_021219.csv\"\n",
    "file_one_df = pd.read_csv(file_one, encoding=\"ISO-8859-1\")\n",
    "file_one_df.head(2)\n",
    "len(file_one_df)\n",
    "num_fats=file_one_df[\"Number of Fatalities\"].sum()\n",
    "print(num_fats)\n",
    "file_one_df[\"Type\"].value_counts()"
   ]
  },
  {
   "cell_type": "code",
   "execution_count": 5,
   "metadata": {},
   "outputs": [
    {
     "data": {
      "text/html": [
       "<div>\n",
       "<style scoped>\n",
       "    .dataframe tbody tr th:only-of-type {\n",
       "        vertical-align: middle;\n",
       "    }\n",
       "\n",
       "    .dataframe tbody tr th {\n",
       "        vertical-align: top;\n",
       "    }\n",
       "\n",
       "    .dataframe thead th {\n",
       "        text-align: right;\n",
       "    }\n",
       "</style>\n",
       "<table border=\"1\" class=\"dataframe\">\n",
       "  <thead>\n",
       "    <tr style=\"text-align: right;\">\n",
       "      <th></th>\n",
       "      <th>Type</th>\n",
       "      <th>Fatal crash number</th>\n",
       "      <th>Number of Fatalities</th>\n",
       "      <th>Case Number</th>\n",
       "      <th>Location</th>\n",
       "      <th>Area</th>\n",
       "      <th>Date</th>\n",
       "      <th>Month</th>\n",
       "      <th>Day</th>\n",
       "      <th>Hour</th>\n",
       "      <th>...</th>\n",
       "      <th>Killed driver pass</th>\n",
       "      <th>Speeding</th>\n",
       "      <th>Ran red light or stop sign</th>\n",
       "      <th>DL status incident</th>\n",
       "      <th>Suspected Impairment</th>\n",
       "      <th>Restraint helmet</th>\n",
       "      <th>Type of road</th>\n",
       "      <th>Failure to stop and render aid</th>\n",
       "      <th>X coord</th>\n",
       "      <th>Y coord</th>\n",
       "    </tr>\n",
       "  </thead>\n",
       "  <tbody>\n",
       "    <tr>\n",
       "      <th>0</th>\n",
       "      <td>Motor Vehicle</td>\n",
       "      <td>1</td>\n",
       "      <td>1</td>\n",
       "      <td>17-0030106</td>\n",
       "      <td>8200 blk N. Lamar Blvd</td>\n",
       "      <td>ED</td>\n",
       "      <td>01/03/2017</td>\n",
       "      <td>Jan</td>\n",
       "      <td>Tue</td>\n",
       "      <td>1</td>\n",
       "      <td>...</td>\n",
       "      <td>driver</td>\n",
       "      <td>Y</td>\n",
       "      <td>N</td>\n",
       "      <td>okay</td>\n",
       "      <td>DRIVER</td>\n",
       "      <td>seatbelt worn</td>\n",
       "      <td>high use roadway</td>\n",
       "      <td>N</td>\n",
       "      <td>-97.709153</td>\n",
       "      <td>30.350809</td>\n",
       "    </tr>\n",
       "    <tr>\n",
       "      <th>1</th>\n",
       "      <td>Bicycle</td>\n",
       "      <td>2</td>\n",
       "      <td>1</td>\n",
       "      <td>17-0080877</td>\n",
       "      <td>Research Blvd SVRD NB/Riata Trace Pkwy</td>\n",
       "      <td>AD</td>\n",
       "      <td>01/08/2017</td>\n",
       "      <td>Jan</td>\n",
       "      <td>Sun</td>\n",
       "      <td>15</td>\n",
       "      <td>...</td>\n",
       "      <td>NaN</td>\n",
       "      <td>N</td>\n",
       "      <td>Y</td>\n",
       "      <td>suspended</td>\n",
       "      <td>NONE</td>\n",
       "      <td>helmet worn</td>\n",
       "      <td>other highway</td>\n",
       "      <td>N</td>\n",
       "      <td>-97.753497</td>\n",
       "      <td>30.426752</td>\n",
       "    </tr>\n",
       "  </tbody>\n",
       "</table>\n",
       "<p>2 rows × 23 columns</p>\n",
       "</div>"
      ],
      "text/plain": [
       "            Type  Fatal crash number  Number of Fatalities Case Number  \\\n",
       "0  Motor Vehicle                   1                     1  17-0030106   \n",
       "1        Bicycle                   2                     1  17-0080877   \n",
       "\n",
       "                                 Location Area        Date Month  Day  Hour  \\\n",
       "0                  8200 blk N. Lamar Blvd   ED  01/03/2017   Jan  Tue     1   \n",
       "1  Research Blvd SVRD NB/Riata Trace Pkwy   AD  01/08/2017   Jan  Sun    15   \n",
       "\n",
       "     ...     Killed driver pass Speeding Ran red light or stop sign  \\\n",
       "0    ...                 driver        Y                          N   \n",
       "1    ...                    NaN        N                          Y   \n",
       "\n",
       "  DL status incident  Suspected Impairment Restraint helmet      Type of road  \\\n",
       "0                okay               DRIVER    seatbelt worn  high use roadway   \n",
       "1           suspended                NONE       helmet worn     other highway   \n",
       "\n",
       "  Failure to stop and render aid    X coord    Y coord  \n",
       "0                              N -97.709153  30.350809  \n",
       "1                              N -97.753497  30.426752  \n",
       "\n",
       "[2 rows x 23 columns]"
      ]
     },
     "execution_count": 5,
     "metadata": {},
     "output_type": "execute_result"
    }
   ],
   "source": [
    "file_two = \"Resources/2017_APD_Traffic_Fatalities.csv\"\n",
    "file_two_df = pd.read_csv(file_two, encoding=\"ISO-8859-1\")\n",
    "file_two_df.head(2)"
   ]
  },
  {
   "cell_type": "code",
   "execution_count": 6,
   "metadata": {},
   "outputs": [
    {
     "data": {
      "text/html": [
       "<div>\n",
       "<style scoped>\n",
       "    .dataframe tbody tr th:only-of-type {\n",
       "        vertical-align: middle;\n",
       "    }\n",
       "\n",
       "    .dataframe tbody tr th {\n",
       "        vertical-align: top;\n",
       "    }\n",
       "\n",
       "    .dataframe thead th {\n",
       "        text-align: right;\n",
       "    }\n",
       "</style>\n",
       "<table border=\"1\" class=\"dataframe\">\n",
       "  <thead>\n",
       "    <tr style=\"text-align: right;\">\n",
       "      <th></th>\n",
       "      <th>TYPE</th>\n",
       "      <th>FATAL CRASH Number</th>\n",
       "      <th>Number of Fatalities</th>\n",
       "      <th>CASE NUMBER</th>\n",
       "      <th>LOCATION</th>\n",
       "      <th>AREA</th>\n",
       "      <th>Date</th>\n",
       "      <th>Month</th>\n",
       "      <th>Day</th>\n",
       "      <th>Hour</th>\n",
       "      <th>...</th>\n",
       "      <th>Victim</th>\n",
       "      <th>Speeding</th>\n",
       "      <th>Ran Red Light or Stop Sign</th>\n",
       "      <th>DL Status</th>\n",
       "      <th>SUSPECTED IMPAIRMENT</th>\n",
       "      <th>restraint or helmet</th>\n",
       "      <th>TYPE OF ROAD</th>\n",
       "      <th>FTSRA</th>\n",
       "      <th>COORD X</th>\n",
       "      <th>Y COORD</th>\n",
       "    </tr>\n",
       "  </thead>\n",
       "  <tbody>\n",
       "    <tr>\n",
       "      <th>0</th>\n",
       "      <td>Pedestrian</td>\n",
       "      <td>1</td>\n",
       "      <td>1</td>\n",
       "      <td>16-0061621</td>\n",
       "      <td>9700 Blk Lake Creek Pkwy</td>\n",
       "      <td>AD</td>\n",
       "      <td>01/06/2016</td>\n",
       "      <td>Jan</td>\n",
       "      <td>Wed</td>\n",
       "      <td>23</td>\n",
       "      <td>...</td>\n",
       "      <td>NaN</td>\n",
       "      <td>N</td>\n",
       "      <td>N</td>\n",
       "      <td>okay</td>\n",
       "      <td>PED</td>\n",
       "      <td>NaN</td>\n",
       "      <td>local street</td>\n",
       "      <td>y</td>\n",
       "      <td>-97.793878</td>\n",
       "      <td>30.475234</td>\n",
       "    </tr>\n",
       "    <tr>\n",
       "      <th>1</th>\n",
       "      <td>Pedestrian</td>\n",
       "      <td>2</td>\n",
       "      <td>1</td>\n",
       "      <td>16-0140992</td>\n",
       "      <td>4800 E. Riverside Dr.</td>\n",
       "      <td>HE</td>\n",
       "      <td>01/14/2016</td>\n",
       "      <td>Jan</td>\n",
       "      <td>Thu</td>\n",
       "      <td>14</td>\n",
       "      <td>...</td>\n",
       "      <td>NaN</td>\n",
       "      <td>N</td>\n",
       "      <td>N</td>\n",
       "      <td>okay</td>\n",
       "      <td>UNKNOWN</td>\n",
       "      <td>NaN</td>\n",
       "      <td>high use roadway</td>\n",
       "      <td>n</td>\n",
       "      <td>-97.717471</td>\n",
       "      <td>30.231659</td>\n",
       "    </tr>\n",
       "  </tbody>\n",
       "</table>\n",
       "<p>2 rows × 23 columns</p>\n",
       "</div>"
      ],
      "text/plain": [
       "         TYPE  FATAL CRASH Number  Number of Fatalities CASE NUMBER  \\\n",
       "0  Pedestrian                   1                     1  16-0061621   \n",
       "1  Pedestrian                   2                     1  16-0140992   \n",
       "\n",
       "                   LOCATION AREA        Date Month  Day  Hour    ...      \\\n",
       "0  9700 Blk Lake Creek Pkwy   AD  01/06/2016   Jan  Wed    23    ...       \n",
       "1     4800 E. Riverside Dr.   HE  01/14/2016   Jan  Thu    14    ...       \n",
       "\n",
       "  Victim Speeding Ran Red Light or Stop Sign DL Status SUSPECTED IMPAIRMENT  \\\n",
       "0    NaN        N                          N      okay                PED     \n",
       "1    NaN        N                          N      okay              UNKNOWN   \n",
       "\n",
       "  restraint or helmet      TYPE OF ROAD FTSRA    COORD X    Y COORD  \n",
       "0                 NaN      local street     y -97.793878  30.475234  \n",
       "1                 NaN  high use roadway     n -97.717471  30.231659  \n",
       "\n",
       "[2 rows x 23 columns]"
      ]
     },
     "execution_count": 6,
     "metadata": {},
     "output_type": "execute_result"
    }
   ],
   "source": [
    "file_three = \"Resources/2016_APD_Traffic_Fatalities.csv\"\n",
    "file_three_df = pd.read_csv(file_three, encoding=\"ISO-8859-1\")\n",
    "file_three_df.head(2)"
   ]
  },
  {
   "cell_type": "code",
   "execution_count": 7,
   "metadata": {},
   "outputs": [
    {
     "data": {
      "text/html": [
       "<div>\n",
       "<style scoped>\n",
       "    .dataframe tbody tr th:only-of-type {\n",
       "        vertical-align: middle;\n",
       "    }\n",
       "\n",
       "    .dataframe tbody tr th {\n",
       "        vertical-align: top;\n",
       "    }\n",
       "\n",
       "    .dataframe thead th {\n",
       "        text-align: right;\n",
       "    }\n",
       "</style>\n",
       "<table border=\"1\" class=\"dataframe\">\n",
       "  <thead>\n",
       "    <tr style=\"text-align: right;\">\n",
       "      <th></th>\n",
       "      <th>TYPE</th>\n",
       "      <th>FATAL CRASH #</th>\n",
       "      <th>Number of Fatalities</th>\n",
       "      <th>CASE NUMBER</th>\n",
       "      <th>LOCATION</th>\n",
       "      <th>AREA</th>\n",
       "      <th>Date</th>\n",
       "      <th>Month</th>\n",
       "      <th>Day</th>\n",
       "      <th>Hour</th>\n",
       "      <th>...</th>\n",
       "      <th>Killed: driver/pass</th>\n",
       "      <th>Speeding</th>\n",
       "      <th>Ran Red Light</th>\n",
       "      <th>DL Status</th>\n",
       "      <th>SUSPECTED IMPAIRMENT</th>\n",
       "      <th>restraint or helmet</th>\n",
       "      <th>TYPE OF ROAD</th>\n",
       "      <th>FTSRA</th>\n",
       "      <th>X COORD</th>\n",
       "      <th>Y COORD</th>\n",
       "    </tr>\n",
       "  </thead>\n",
       "  <tbody>\n",
       "    <tr>\n",
       "      <th>0</th>\n",
       "      <td>Motor Vehicle</td>\n",
       "      <td>1</td>\n",
       "      <td>1</td>\n",
       "      <td>15-0061199</td>\n",
       "      <td>600 Blk E Koenig Lane</td>\n",
       "      <td>ID</td>\n",
       "      <td>01/06/2015</td>\n",
       "      <td>Jan</td>\n",
       "      <td>Tues</td>\n",
       "      <td>17</td>\n",
       "      <td>...</td>\n",
       "      <td>driver</td>\n",
       "      <td>Y</td>\n",
       "      <td>N</td>\n",
       "      <td>ok</td>\n",
       "      <td>DRIVER</td>\n",
       "      <td>no seatbelt</td>\n",
       "      <td>High-use roadway</td>\n",
       "      <td>no</td>\n",
       "      <td>-97.715944</td>\n",
       "      <td>30.320670</td>\n",
       "    </tr>\n",
       "    <tr>\n",
       "      <th>1</th>\n",
       "      <td>Pedestrian</td>\n",
       "      <td>2</td>\n",
       "      <td>1</td>\n",
       "      <td>15-71386</td>\n",
       "      <td>12900 Blk N IH35 SB</td>\n",
       "      <td>ED</td>\n",
       "      <td>01/07/2015</td>\n",
       "      <td>Jan</td>\n",
       "      <td>Wed</td>\n",
       "      <td>18</td>\n",
       "      <td>...</td>\n",
       "      <td>ped</td>\n",
       "      <td>N</td>\n",
       "      <td>N</td>\n",
       "      <td>ok</td>\n",
       "      <td>none</td>\n",
       "      <td>NaN</td>\n",
       "      <td>IH35</td>\n",
       "      <td>No</td>\n",
       "      <td>-97.673245</td>\n",
       "      <td>30.385484</td>\n",
       "    </tr>\n",
       "  </tbody>\n",
       "</table>\n",
       "<p>2 rows × 23 columns</p>\n",
       "</div>"
      ],
      "text/plain": [
       "            TYPE  FATAL CRASH #  Number of Fatalities CASE NUMBER  \\\n",
       "0  Motor Vehicle              1                     1  15-0061199   \n",
       "1     Pedestrian              2                     1    15-71386   \n",
       "\n",
       "                LOCATION AREA        Date Month   Day  Hour    ...      \\\n",
       "0  600 Blk E Koenig Lane   ID  01/06/2015   Jan  Tues    17    ...       \n",
       "1    12900 Blk N IH35 SB   ED  01/07/2015   Jan   Wed    18    ...       \n",
       "\n",
       "  Killed: driver/pass Speeding Ran Red Light DL Status SUSPECTED IMPAIRMENT  \\\n",
       "0              driver        Y             N        ok               DRIVER   \n",
       "1                 ped        N             N        ok                 none   \n",
       "\n",
       "  restraint or helmet      TYPE OF ROAD FTSRA    X COORD    Y COORD  \n",
       "0         no seatbelt  High-use roadway    no -97.715944  30.320670  \n",
       "1                 NaN              IH35    No -97.673245  30.385484  \n",
       "\n",
       "[2 rows x 23 columns]"
      ]
     },
     "execution_count": 7,
     "metadata": {},
     "output_type": "execute_result"
    }
   ],
   "source": [
    "file_four = \"Resources/2015_APD_Traffic_Fatalities.csv\"\n",
    "file_four_df = pd.read_csv(file_four, encoding=\"ISO-8859-1\")\n",
    "file_four_df.head(2)"
   ]
  },
  {
   "cell_type": "code",
   "execution_count": 8,
   "metadata": {},
   "outputs": [
    {
     "data": {
      "text/plain": [
       "Index(['Type', 'Fatal Crash Number', 'Number of Fatalities', 'Case Status',\n",
       "       'Case Number', 'Location', 'Area', 'Date', 'Month', 'Day', 'Hour',\n",
       "       'Time', 'Related', 'charge', 'Killed driver pass', 'Speeding',\n",
       "       'Ran Red Light or Stop Sign', 'DL Status incident',\n",
       "       'Suspected Impairment', 'Restraint type', 'Type of road',\n",
       "       'Failure to stop and render aid', 'X coord', 'Y coord'],\n",
       "      dtype='object')"
      ]
     },
     "execution_count": 8,
     "metadata": {},
     "output_type": "execute_result"
    }
   ],
   "source": [
    "file_one_df.columns"
   ]
  },
  {
   "cell_type": "code",
   "execution_count": 9,
   "metadata": {},
   "outputs": [
    {
     "data": {
      "text/plain": [
       "Index(['Type', 'Fatal crash number', 'Number of Fatalities', 'Case Number',\n",
       "       'Location', 'Area', 'Date', 'Month', 'Day', 'Hour', 'Time', 'Related',\n",
       "       'Charge', 'Killed driver pass', 'Speeding',\n",
       "       'Ran red light or stop sign', 'DL status incident ',\n",
       "       'Suspected Impairment', 'Restraint helmet', 'Type of road',\n",
       "       'Failure to stop and render aid', 'X coord', 'Y coord'],\n",
       "      dtype='object')"
      ]
     },
     "execution_count": 9,
     "metadata": {},
     "output_type": "execute_result"
    }
   ],
   "source": [
    "file_two_df.columns"
   ]
  },
  {
   "cell_type": "code",
   "execution_count": 10,
   "metadata": {},
   "outputs": [
    {
     "data": {
      "text/plain": [
       "Index(['TYPE', 'FATAL CRASH Number', 'Number of Fatalities', 'CASE NUMBER',\n",
       "       'LOCATION', 'AREA', 'Date', 'Month', 'Day', 'Hour', 'Time', 'Related',\n",
       "       'charge', 'Victim', 'Speeding', 'Ran Red Light or Stop Sign',\n",
       "       'DL Status', 'SUSPECTED IMPAIRMENT', 'restraint or helmet',\n",
       "       'TYPE OF ROAD', 'FTSRA', 'COORD X', 'Y COORD'],\n",
       "      dtype='object')"
      ]
     },
     "execution_count": 10,
     "metadata": {},
     "output_type": "execute_result"
    }
   ],
   "source": [
    "file_three_df.columns"
   ]
  },
  {
   "cell_type": "code",
   "execution_count": 11,
   "metadata": {},
   "outputs": [
    {
     "data": {
      "text/plain": [
       "Index(['TYPE', 'FATAL CRASH #', 'Number of Fatalities', 'CASE NUMBER',\n",
       "       'LOCATION', 'AREA', 'Date', 'Month', 'Day', 'Hour', 'Time', 'Related',\n",
       "       'charge', 'Killed: driver/pass', 'Speeding', 'Ran Red Light',\n",
       "       'DL Status', 'SUSPECTED IMPAIRMENT', 'restraint or helmet',\n",
       "       'TYPE OF ROAD', 'FTSRA', 'X COORD', 'Y COORD'],\n",
       "      dtype='object')"
      ]
     },
     "execution_count": 11,
     "metadata": {},
     "output_type": "execute_result"
    }
   ],
   "source": [
    "file_four_df.columns"
   ]
  },
  {
   "cell_type": "code",
   "execution_count": 12,
   "metadata": {},
   "outputs": [
    {
     "data": {
      "text/html": [
       "<div>\n",
       "<style scoped>\n",
       "    .dataframe tbody tr th:only-of-type {\n",
       "        vertical-align: middle;\n",
       "    }\n",
       "\n",
       "    .dataframe tbody tr th {\n",
       "        vertical-align: top;\n",
       "    }\n",
       "\n",
       "    .dataframe thead th {\n",
       "        text-align: right;\n",
       "    }\n",
       "</style>\n",
       "<table border=\"1\" class=\"dataframe\">\n",
       "  <thead>\n",
       "    <tr style=\"text-align: right;\">\n",
       "      <th></th>\n",
       "      <th>Type</th>\n",
       "      <th>Number of Fatalities</th>\n",
       "      <th>Location</th>\n",
       "      <th>Date</th>\n",
       "      <th>Hour</th>\n",
       "      <th>Related</th>\n",
       "      <th>Killed driver pass</th>\n",
       "      <th>Speeding</th>\n",
       "      <th>Ran Red Light or Stop Sign</th>\n",
       "      <th>Suspected Impairment</th>\n",
       "      <th>Type of road</th>\n",
       "      <th>Failure to stop and render aid</th>\n",
       "      <th>X coord</th>\n",
       "      <th>Y coord</th>\n",
       "    </tr>\n",
       "  </thead>\n",
       "  <tbody>\n",
       "    <tr>\n",
       "      <th>0</th>\n",
       "      <td>MOTOR VEHICLE</td>\n",
       "      <td>2</td>\n",
       "      <td>5600 Block N IH 35 NB</td>\n",
       "      <td>01/04/2018</td>\n",
       "      <td>23</td>\n",
       "      <td>mv/18 Wheel</td>\n",
       "      <td>driver and passenger</td>\n",
       "      <td>n</td>\n",
       "      <td>n</td>\n",
       "      <td>driver</td>\n",
       "      <td>IH35</td>\n",
       "      <td>n</td>\n",
       "      <td>-97.707660</td>\n",
       "      <td>30.315355</td>\n",
       "    </tr>\n",
       "    <tr>\n",
       "      <th>1</th>\n",
       "      <td>MOTOR VEHICLE</td>\n",
       "      <td>1</td>\n",
       "      <td>1500 W Slaughter Ln</td>\n",
       "      <td>01/16/2018</td>\n",
       "      <td>17</td>\n",
       "      <td>MV/ROR</td>\n",
       "      <td>passenger</td>\n",
       "      <td>n</td>\n",
       "      <td>n</td>\n",
       "      <td>none</td>\n",
       "      <td>High Use Road</td>\n",
       "      <td>n</td>\n",
       "      <td>-97.817994</td>\n",
       "      <td>30.173921</td>\n",
       "    </tr>\n",
       "  </tbody>\n",
       "</table>\n",
       "</div>"
      ],
      "text/plain": [
       "            Type  Number of Fatalities               Location        Date  \\\n",
       "0  MOTOR VEHICLE                     2  5600 Block N IH 35 NB  01/04/2018   \n",
       "1  MOTOR VEHICLE                     1    1500 W Slaughter Ln  01/16/2018   \n",
       "\n",
       "   Hour      Related    Killed driver pass Speeding  \\\n",
       "0    23  mv/18 Wheel  driver and passenger        n   \n",
       "1    17       MV/ROR             passenger        n   \n",
       "\n",
       "  Ran Red Light or Stop Sign Suspected Impairment   Type of road  \\\n",
       "0                          n            driver              IH35   \n",
       "1                          n                 none  High Use Road   \n",
       "\n",
       "  Failure to stop and render aid    X coord    Y coord  \n",
       "0                              n -97.707660  30.315355  \n",
       "1                              n -97.817994  30.173921  "
      ]
     },
     "execution_count": 12,
     "metadata": {},
     "output_type": "execute_result"
    }
   ],
   "source": [
    "organized_file_2018 = file_one_df[['Type', 'Number of Fatalities', 'Location', 'Date', 'Hour', 'Related', 'Killed driver pass', 'Speeding',\n",
    "       'Ran Red Light or Stop Sign',\n",
    "       'Suspected Impairment', 'Type of road',\n",
    "       'Failure to stop and render aid', 'X coord', 'Y coord']]\n",
    "organized_file_2018.head(2)"
   ]
  },
  {
   "cell_type": "code",
   "execution_count": 13,
   "metadata": {},
   "outputs": [],
   "source": [
    "organized_file_2017 = file_two_df[['Type', 'Number of Fatalities',\n",
    "       'Location', 'Date', 'Hour', 'Related', 'Killed driver pass', 'Speeding','Ran red light or stop sign',\n",
    "       'Suspected Impairment', 'Type of road',\n",
    "       'Failure to stop and render aid', 'X coord', 'Y coord']]"
   ]
  },
  {
   "cell_type": "code",
   "execution_count": 14,
   "metadata": {},
   "outputs": [
    {
     "data": {
      "text/html": [
       "<div>\n",
       "<style scoped>\n",
       "    .dataframe tbody tr th:only-of-type {\n",
       "        vertical-align: middle;\n",
       "    }\n",
       "\n",
       "    .dataframe tbody tr th {\n",
       "        vertical-align: top;\n",
       "    }\n",
       "\n",
       "    .dataframe thead th {\n",
       "        text-align: right;\n",
       "    }\n",
       "</style>\n",
       "<table border=\"1\" class=\"dataframe\">\n",
       "  <thead>\n",
       "    <tr style=\"text-align: right;\">\n",
       "      <th></th>\n",
       "      <th>Type</th>\n",
       "      <th>Number of Fatalities</th>\n",
       "      <th>Location</th>\n",
       "      <th>Date</th>\n",
       "      <th>Hour</th>\n",
       "      <th>Related</th>\n",
       "      <th>Killed driver pass</th>\n",
       "      <th>Speeding</th>\n",
       "      <th>Ran Red Light or Stop Sign</th>\n",
       "      <th>Suspected Impairment</th>\n",
       "      <th>Type of road</th>\n",
       "      <th>Failure to stop and render aid</th>\n",
       "      <th>X coord</th>\n",
       "      <th>Y coord</th>\n",
       "    </tr>\n",
       "  </thead>\n",
       "  <tbody>\n",
       "    <tr>\n",
       "      <th>0</th>\n",
       "      <td>Motor Vehicle</td>\n",
       "      <td>1</td>\n",
       "      <td>8200 blk N. Lamar Blvd</td>\n",
       "      <td>01/03/2017</td>\n",
       "      <td>1</td>\n",
       "      <td>MV/FO</td>\n",
       "      <td>driver</td>\n",
       "      <td>Y</td>\n",
       "      <td>N</td>\n",
       "      <td>DRIVER</td>\n",
       "      <td>high use roadway</td>\n",
       "      <td>N</td>\n",
       "      <td>-97.709153</td>\n",
       "      <td>30.350809</td>\n",
       "    </tr>\n",
       "    <tr>\n",
       "      <th>1</th>\n",
       "      <td>Bicycle</td>\n",
       "      <td>1</td>\n",
       "      <td>Research Blvd SVRD NB/Riata Trace Pkwy</td>\n",
       "      <td>01/08/2017</td>\n",
       "      <td>15</td>\n",
       "      <td>MV/Bike</td>\n",
       "      <td>NaN</td>\n",
       "      <td>N</td>\n",
       "      <td>Y</td>\n",
       "      <td>NONE</td>\n",
       "      <td>other highway</td>\n",
       "      <td>N</td>\n",
       "      <td>-97.753497</td>\n",
       "      <td>30.426752</td>\n",
       "    </tr>\n",
       "  </tbody>\n",
       "</table>\n",
       "</div>"
      ],
      "text/plain": [
       "            Type  Number of Fatalities  \\\n",
       "0  Motor Vehicle                     1   \n",
       "1        Bicycle                     1   \n",
       "\n",
       "                                 Location        Date  Hour  Related  \\\n",
       "0                  8200 blk N. Lamar Blvd  01/03/2017     1    MV/FO   \n",
       "1  Research Blvd SVRD NB/Riata Trace Pkwy  01/08/2017    15  MV/Bike   \n",
       "\n",
       "  Killed driver pass Speeding Ran Red Light or Stop Sign Suspected Impairment  \\\n",
       "0             driver        Y                          N               DRIVER   \n",
       "1                NaN        N                          Y                NONE    \n",
       "\n",
       "       Type of road Failure to stop and render aid    X coord    Y coord  \n",
       "0  high use roadway                              N -97.709153  30.350809  \n",
       "1     other highway                              N -97.753497  30.426752  "
      ]
     },
     "execution_count": 14,
     "metadata": {},
     "output_type": "execute_result"
    }
   ],
   "source": [
    "organized_file_2017c = organized_file_2017.rename(columns={\"Ran red light or stop sign\":\"Ran Red Light or Stop Sign\"})\n",
    "organized_file_2017c.head(2)"
   ]
  },
  {
   "cell_type": "code",
   "execution_count": 15,
   "metadata": {},
   "outputs": [],
   "source": [
    "organized_file_2016 = file_three_df[['TYPE','Number of Fatalities','LOCATION', 'Date', 'Hour', 'Related', 'Victim', 'Speeding', 'Ran Red Light or Stop Sign', 'SUSPECTED IMPAIRMENT', 'TYPE OF ROAD', 'FTSRA', 'COORD X', 'Y COORD']]"
   ]
  },
  {
   "cell_type": "code",
   "execution_count": 16,
   "metadata": {},
   "outputs": [
    {
     "data": {
      "text/html": [
       "<div>\n",
       "<style scoped>\n",
       "    .dataframe tbody tr th:only-of-type {\n",
       "        vertical-align: middle;\n",
       "    }\n",
       "\n",
       "    .dataframe tbody tr th {\n",
       "        vertical-align: top;\n",
       "    }\n",
       "\n",
       "    .dataframe thead th {\n",
       "        text-align: right;\n",
       "    }\n",
       "</style>\n",
       "<table border=\"1\" class=\"dataframe\">\n",
       "  <thead>\n",
       "    <tr style=\"text-align: right;\">\n",
       "      <th></th>\n",
       "      <th>Type</th>\n",
       "      <th>Number of Fatalities</th>\n",
       "      <th>Location</th>\n",
       "      <th>Date</th>\n",
       "      <th>Hour</th>\n",
       "      <th>Related</th>\n",
       "      <th>Killed driver pass</th>\n",
       "      <th>Speeding</th>\n",
       "      <th>Ran Red Light or Stop Sign</th>\n",
       "      <th>Suspected Impairment</th>\n",
       "      <th>Type of road</th>\n",
       "      <th>Failure to stop and render aid</th>\n",
       "      <th>X coord</th>\n",
       "      <th>Y coord</th>\n",
       "    </tr>\n",
       "  </thead>\n",
       "  <tbody>\n",
       "    <tr>\n",
       "      <th>0</th>\n",
       "      <td>Pedestrian</td>\n",
       "      <td>1</td>\n",
       "      <td>9700 Blk Lake Creek Pkwy</td>\n",
       "      <td>01/06/2016</td>\n",
       "      <td>23</td>\n",
       "      <td>MV/Ped</td>\n",
       "      <td>NaN</td>\n",
       "      <td>N</td>\n",
       "      <td>N</td>\n",
       "      <td>PED</td>\n",
       "      <td>local street</td>\n",
       "      <td>y</td>\n",
       "      <td>-97.793878</td>\n",
       "      <td>30.475234</td>\n",
       "    </tr>\n",
       "    <tr>\n",
       "      <th>1</th>\n",
       "      <td>Pedestrian</td>\n",
       "      <td>1</td>\n",
       "      <td>4800 E. Riverside Dr.</td>\n",
       "      <td>01/14/2016</td>\n",
       "      <td>14</td>\n",
       "      <td>MV/Ped</td>\n",
       "      <td>NaN</td>\n",
       "      <td>N</td>\n",
       "      <td>N</td>\n",
       "      <td>UNKNOWN</td>\n",
       "      <td>high use roadway</td>\n",
       "      <td>n</td>\n",
       "      <td>-97.717471</td>\n",
       "      <td>30.231659</td>\n",
       "    </tr>\n",
       "  </tbody>\n",
       "</table>\n",
       "</div>"
      ],
      "text/plain": [
       "         Type  Number of Fatalities                  Location        Date  \\\n",
       "0  Pedestrian                     1  9700 Blk Lake Creek Pkwy  01/06/2016   \n",
       "1  Pedestrian                     1     4800 E. Riverside Dr.  01/14/2016   \n",
       "\n",
       "   Hour Related Killed driver pass Speeding Ran Red Light or Stop Sign  \\\n",
       "0    23  MV/Ped                NaN        N                          N   \n",
       "1    14  MV/Ped                NaN        N                          N   \n",
       "\n",
       "  Suspected Impairment      Type of road Failure to stop and render aid  \\\n",
       "0                PED        local street                              y   \n",
       "1              UNKNOWN  high use roadway                              n   \n",
       "\n",
       "     X coord    Y coord  \n",
       "0 -97.793878  30.475234  \n",
       "1 -97.717471  30.231659  "
      ]
     },
     "execution_count": 16,
     "metadata": {},
     "output_type": "execute_result"
    }
   ],
   "source": [
    "organized_file_2016c = organized_file_2016.rename(columns={\"TYPE\":\"Type\", \"LOCATION\":\"Location\", \"Victim\":\"Killed driver pass\", \"SUSPECTED IMPAIRMENT\":\"Suspected Impairment\", \"TYPE OF ROAD\":\"Type of road\", \"FTSRA\":\"Failure to stop and render aid\", \"COORD X\":\"X coord\",\"Y COORD\":\"Y coord\"})\n",
    "organized_file_2016c.head(2)"
   ]
  },
  {
   "cell_type": "code",
   "execution_count": 17,
   "metadata": {},
   "outputs": [],
   "source": [
    "organized_file_2015 = file_four_df[['TYPE', 'Number of Fatalities', 'LOCATION', 'Date', 'Hour', 'Related', 'Killed: driver/pass', 'Speeding', 'Ran Red Light', 'SUSPECTED IMPAIRMENT',\n",
    "       'TYPE OF ROAD', 'FTSRA', 'X COORD', 'Y COORD']]"
   ]
  },
  {
   "cell_type": "code",
   "execution_count": 18,
   "metadata": {},
   "outputs": [
    {
     "data": {
      "text/html": [
       "<div>\n",
       "<style scoped>\n",
       "    .dataframe tbody tr th:only-of-type {\n",
       "        vertical-align: middle;\n",
       "    }\n",
       "\n",
       "    .dataframe tbody tr th {\n",
       "        vertical-align: top;\n",
       "    }\n",
       "\n",
       "    .dataframe thead th {\n",
       "        text-align: right;\n",
       "    }\n",
       "</style>\n",
       "<table border=\"1\" class=\"dataframe\">\n",
       "  <thead>\n",
       "    <tr style=\"text-align: right;\">\n",
       "      <th></th>\n",
       "      <th>Type</th>\n",
       "      <th>Number of Fatalities</th>\n",
       "      <th>Location</th>\n",
       "      <th>Date</th>\n",
       "      <th>Hour</th>\n",
       "      <th>Related</th>\n",
       "      <th>Killed driver pass</th>\n",
       "      <th>Speeding</th>\n",
       "      <th>Ran Red Light or Stop Sign</th>\n",
       "      <th>Suspected Impairment</th>\n",
       "      <th>Type of road</th>\n",
       "      <th>Failure to stop and render aid</th>\n",
       "      <th>X coord</th>\n",
       "      <th>Y coord</th>\n",
       "    </tr>\n",
       "  </thead>\n",
       "  <tbody>\n",
       "    <tr>\n",
       "      <th>0</th>\n",
       "      <td>Motor Vehicle</td>\n",
       "      <td>1</td>\n",
       "      <td>600 Blk E Koenig Lane</td>\n",
       "      <td>01/06/2015</td>\n",
       "      <td>17</td>\n",
       "      <td>MV/MV</td>\n",
       "      <td>driver</td>\n",
       "      <td>Y</td>\n",
       "      <td>N</td>\n",
       "      <td>DRIVER</td>\n",
       "      <td>High-use roadway</td>\n",
       "      <td>no</td>\n",
       "      <td>-97.715944</td>\n",
       "      <td>30.320670</td>\n",
       "    </tr>\n",
       "    <tr>\n",
       "      <th>1</th>\n",
       "      <td>Pedestrian</td>\n",
       "      <td>1</td>\n",
       "      <td>12900 Blk N IH35 SB</td>\n",
       "      <td>01/07/2015</td>\n",
       "      <td>18</td>\n",
       "      <td>MV/Ped</td>\n",
       "      <td>ped</td>\n",
       "      <td>N</td>\n",
       "      <td>N</td>\n",
       "      <td>none</td>\n",
       "      <td>IH35</td>\n",
       "      <td>No</td>\n",
       "      <td>-97.673245</td>\n",
       "      <td>30.385484</td>\n",
       "    </tr>\n",
       "  </tbody>\n",
       "</table>\n",
       "</div>"
      ],
      "text/plain": [
       "            Type  Number of Fatalities               Location        Date  \\\n",
       "0  Motor Vehicle                     1  600 Blk E Koenig Lane  01/06/2015   \n",
       "1     Pedestrian                     1    12900 Blk N IH35 SB  01/07/2015   \n",
       "\n",
       "   Hour Related Killed driver pass Speeding Ran Red Light or Stop Sign  \\\n",
       "0    17   MV/MV             driver        Y                          N   \n",
       "1    18  MV/Ped                ped        N                          N   \n",
       "\n",
       "  Suspected Impairment      Type of road Failure to stop and render aid  \\\n",
       "0               DRIVER  High-use roadway                             no   \n",
       "1                 none              IH35                             No   \n",
       "\n",
       "     X coord    Y coord  \n",
       "0 -97.715944  30.320670  \n",
       "1 -97.673245  30.385484  "
      ]
     },
     "execution_count": 18,
     "metadata": {},
     "output_type": "execute_result"
    }
   ],
   "source": [
    "organized_file_2015c = organized_file_2015.rename(columns={\"TYPE\":\"Type\", \"LOCATION\":\"Location\", \"Killed: driver/pass\":\"Killed driver pass\", \"Ran Red Light\":\"Ran Red Light or Stop Sign\", \"SUSPECTED IMPAIRMENT\":\"Suspected Impairment\", \"TYPE OF ROAD\":\"Type of road\", \"FTSRA\":\"Failure to stop and render aid\", \"X COORD\":\"X coord\",\"Y COORD\":\"Y coord\"})\n",
    "organized_file_2015c.head(2)"
   ]
  },
  {
   "cell_type": "code",
   "execution_count": 19,
   "metadata": {},
   "outputs": [
    {
     "data": {
      "text/html": [
       "<div>\n",
       "<style scoped>\n",
       "    .dataframe tbody tr th:only-of-type {\n",
       "        vertical-align: middle;\n",
       "    }\n",
       "\n",
       "    .dataframe tbody tr th {\n",
       "        vertical-align: top;\n",
       "    }\n",
       "\n",
       "    .dataframe thead th {\n",
       "        text-align: right;\n",
       "    }\n",
       "</style>\n",
       "<table border=\"1\" class=\"dataframe\">\n",
       "  <thead>\n",
       "    <tr style=\"text-align: right;\">\n",
       "      <th></th>\n",
       "      <th>Type</th>\n",
       "      <th>Number of Fatalities</th>\n",
       "      <th>Location</th>\n",
       "      <th>Date</th>\n",
       "      <th>Hour</th>\n",
       "      <th>Related</th>\n",
       "      <th>Killed driver pass</th>\n",
       "      <th>Speeding</th>\n",
       "      <th>Ran Red Light or Stop Sign</th>\n",
       "      <th>Suspected Impairment</th>\n",
       "      <th>Type of road</th>\n",
       "      <th>Failure to stop and render aid</th>\n",
       "      <th>X coord</th>\n",
       "      <th>Y coord</th>\n",
       "    </tr>\n",
       "  </thead>\n",
       "  <tbody>\n",
       "    <tr>\n",
       "      <th>0</th>\n",
       "      <td>MOTOR VEHICLE</td>\n",
       "      <td>2</td>\n",
       "      <td>5600 Block N IH 35 NB</td>\n",
       "      <td>01/04/2018</td>\n",
       "      <td>23</td>\n",
       "      <td>mv/18 Wheel</td>\n",
       "      <td>driver and passenger</td>\n",
       "      <td>n</td>\n",
       "      <td>n</td>\n",
       "      <td>driver</td>\n",
       "      <td>IH35</td>\n",
       "      <td>n</td>\n",
       "      <td>-97.707660</td>\n",
       "      <td>30.315355</td>\n",
       "    </tr>\n",
       "    <tr>\n",
       "      <th>1</th>\n",
       "      <td>MOTOR VEHICLE</td>\n",
       "      <td>1</td>\n",
       "      <td>1500 W Slaughter Ln</td>\n",
       "      <td>01/16/2018</td>\n",
       "      <td>17</td>\n",
       "      <td>MV/ROR</td>\n",
       "      <td>passenger</td>\n",
       "      <td>n</td>\n",
       "      <td>n</td>\n",
       "      <td>none</td>\n",
       "      <td>High Use Road</td>\n",
       "      <td>n</td>\n",
       "      <td>-97.817994</td>\n",
       "      <td>30.173921</td>\n",
       "    </tr>\n",
       "  </tbody>\n",
       "</table>\n",
       "</div>"
      ],
      "text/plain": [
       "            Type  Number of Fatalities               Location        Date  \\\n",
       "0  MOTOR VEHICLE                     2  5600 Block N IH 35 NB  01/04/2018   \n",
       "1  MOTOR VEHICLE                     1    1500 W Slaughter Ln  01/16/2018   \n",
       "\n",
       "   Hour      Related    Killed driver pass Speeding  \\\n",
       "0    23  mv/18 Wheel  driver and passenger        n   \n",
       "1    17       MV/ROR             passenger        n   \n",
       "\n",
       "  Ran Red Light or Stop Sign Suspected Impairment   Type of road  \\\n",
       "0                          n            driver              IH35   \n",
       "1                          n                 none  High Use Road   \n",
       "\n",
       "  Failure to stop and render aid    X coord    Y coord  \n",
       "0                              n -97.707660  30.315355  \n",
       "1                              n -97.817994  30.173921  "
      ]
     },
     "execution_count": 19,
     "metadata": {},
     "output_type": "execute_result"
    }
   ],
   "source": [
    "# Merge two dataframes using an outer join\n",
    "merge_table1 = pd.merge(organized_file_2018, organized_file_2017c, on=[\"Type\", \"Number of Fatalities\", \"Location\", \"Date\", \"Hour\", \"Related\", \"Killed driver pass\", \"Speeding\", \"Ran Red Light or Stop Sign\", \"Suspected Impairment\", \"Type of road\", \"Failure to stop and render aid\", \"X coord\", \"Y coord\"], how=\"outer\")\n",
    "merge_table1.head(2)"
   ]
  },
  {
   "cell_type": "code",
   "execution_count": 20,
   "metadata": {},
   "outputs": [
    {
     "data": {
      "text/html": [
       "<div>\n",
       "<style scoped>\n",
       "    .dataframe tbody tr th:only-of-type {\n",
       "        vertical-align: middle;\n",
       "    }\n",
       "\n",
       "    .dataframe tbody tr th {\n",
       "        vertical-align: top;\n",
       "    }\n",
       "\n",
       "    .dataframe thead th {\n",
       "        text-align: right;\n",
       "    }\n",
       "</style>\n",
       "<table border=\"1\" class=\"dataframe\">\n",
       "  <thead>\n",
       "    <tr style=\"text-align: right;\">\n",
       "      <th></th>\n",
       "      <th>Type</th>\n",
       "      <th>Number of Fatalities</th>\n",
       "      <th>Location</th>\n",
       "      <th>Date</th>\n",
       "      <th>Hour</th>\n",
       "      <th>Related</th>\n",
       "      <th>Killed driver pass</th>\n",
       "      <th>Speeding</th>\n",
       "      <th>Ran Red Light or Stop Sign</th>\n",
       "      <th>Suspected Impairment</th>\n",
       "      <th>Type of road</th>\n",
       "      <th>Failure to stop and render aid</th>\n",
       "      <th>X coord</th>\n",
       "      <th>Y coord</th>\n",
       "    </tr>\n",
       "  </thead>\n",
       "  <tbody>\n",
       "    <tr>\n",
       "      <th>0</th>\n",
       "      <td>MOTOR VEHICLE</td>\n",
       "      <td>2</td>\n",
       "      <td>5600 Block N IH 35 NB</td>\n",
       "      <td>01/04/2018</td>\n",
       "      <td>23</td>\n",
       "      <td>mv/18 Wheel</td>\n",
       "      <td>driver and passenger</td>\n",
       "      <td>n</td>\n",
       "      <td>n</td>\n",
       "      <td>driver</td>\n",
       "      <td>IH35</td>\n",
       "      <td>n</td>\n",
       "      <td>-97.707660</td>\n",
       "      <td>30.315355</td>\n",
       "    </tr>\n",
       "    <tr>\n",
       "      <th>1</th>\n",
       "      <td>MOTOR VEHICLE</td>\n",
       "      <td>1</td>\n",
       "      <td>1500 W Slaughter Ln</td>\n",
       "      <td>01/16/2018</td>\n",
       "      <td>17</td>\n",
       "      <td>MV/ROR</td>\n",
       "      <td>passenger</td>\n",
       "      <td>n</td>\n",
       "      <td>n</td>\n",
       "      <td>none</td>\n",
       "      <td>High Use Road</td>\n",
       "      <td>n</td>\n",
       "      <td>-97.817994</td>\n",
       "      <td>30.173921</td>\n",
       "    </tr>\n",
       "  </tbody>\n",
       "</table>\n",
       "</div>"
      ],
      "text/plain": [
       "            Type  Number of Fatalities               Location        Date  \\\n",
       "0  MOTOR VEHICLE                     2  5600 Block N IH 35 NB  01/04/2018   \n",
       "1  MOTOR VEHICLE                     1    1500 W Slaughter Ln  01/16/2018   \n",
       "\n",
       "   Hour      Related    Killed driver pass Speeding  \\\n",
       "0    23  mv/18 Wheel  driver and passenger        n   \n",
       "1    17       MV/ROR             passenger        n   \n",
       "\n",
       "  Ran Red Light or Stop Sign Suspected Impairment   Type of road  \\\n",
       "0                          n            driver              IH35   \n",
       "1                          n                 none  High Use Road   \n",
       "\n",
       "  Failure to stop and render aid    X coord    Y coord  \n",
       "0                              n -97.707660  30.315355  \n",
       "1                              n -97.817994  30.173921  "
      ]
     },
     "execution_count": 20,
     "metadata": {},
     "output_type": "execute_result"
    }
   ],
   "source": [
    "merge_table2 = pd.merge(merge_table1, organized_file_2016c, on=[\"Type\", \"Number of Fatalities\", \"Location\", \"Date\", \"Hour\", \"Related\", \"Killed driver pass\", \"Speeding\", \"Ran Red Light or Stop Sign\", \"Suspected Impairment\", \"Type of road\", \"Failure to stop and render aid\", \"X coord\", \"Y coord\"], how=\"outer\")\n",
    "merge_table2.head(2)"
   ]
  },
  {
   "cell_type": "code",
   "execution_count": 21,
   "metadata": {},
   "outputs": [
    {
     "data": {
      "text/html": [
       "<div>\n",
       "<style scoped>\n",
       "    .dataframe tbody tr th:only-of-type {\n",
       "        vertical-align: middle;\n",
       "    }\n",
       "\n",
       "    .dataframe tbody tr th {\n",
       "        vertical-align: top;\n",
       "    }\n",
       "\n",
       "    .dataframe thead th {\n",
       "        text-align: right;\n",
       "    }\n",
       "</style>\n",
       "<table border=\"1\" class=\"dataframe\">\n",
       "  <thead>\n",
       "    <tr style=\"text-align: right;\">\n",
       "      <th></th>\n",
       "      <th>Type</th>\n",
       "      <th>Number of Fatalities</th>\n",
       "      <th>Location</th>\n",
       "      <th>Date</th>\n",
       "      <th>Hour</th>\n",
       "      <th>Related</th>\n",
       "      <th>Killed driver pass</th>\n",
       "      <th>Speeding</th>\n",
       "      <th>Ran Red Light or Stop Sign</th>\n",
       "      <th>Suspected Impairment</th>\n",
       "      <th>Type of road</th>\n",
       "      <th>Failure to stop and render aid</th>\n",
       "      <th>X coord</th>\n",
       "      <th>Y coord</th>\n",
       "    </tr>\n",
       "  </thead>\n",
       "  <tbody>\n",
       "    <tr>\n",
       "      <th>0</th>\n",
       "      <td>MOTOR VEHICLE</td>\n",
       "      <td>2</td>\n",
       "      <td>5600 Block N IH 35 NB</td>\n",
       "      <td>01/04/2018</td>\n",
       "      <td>23</td>\n",
       "      <td>mv/18 Wheel</td>\n",
       "      <td>driver and passenger</td>\n",
       "      <td>n</td>\n",
       "      <td>n</td>\n",
       "      <td>driver</td>\n",
       "      <td>IH35</td>\n",
       "      <td>n</td>\n",
       "      <td>-97.707660</td>\n",
       "      <td>30.315355</td>\n",
       "    </tr>\n",
       "    <tr>\n",
       "      <th>1</th>\n",
       "      <td>MOTOR VEHICLE</td>\n",
       "      <td>1</td>\n",
       "      <td>1500 W Slaughter Ln</td>\n",
       "      <td>01/16/2018</td>\n",
       "      <td>17</td>\n",
       "      <td>MV/ROR</td>\n",
       "      <td>passenger</td>\n",
       "      <td>n</td>\n",
       "      <td>n</td>\n",
       "      <td>none</td>\n",
       "      <td>High Use Road</td>\n",
       "      <td>n</td>\n",
       "      <td>-97.817994</td>\n",
       "      <td>30.173921</td>\n",
       "    </tr>\n",
       "  </tbody>\n",
       "</table>\n",
       "</div>"
      ],
      "text/plain": [
       "            Type  Number of Fatalities               Location        Date  \\\n",
       "0  MOTOR VEHICLE                     2  5600 Block N IH 35 NB  01/04/2018   \n",
       "1  MOTOR VEHICLE                     1    1500 W Slaughter Ln  01/16/2018   \n",
       "\n",
       "   Hour      Related    Killed driver pass Speeding  \\\n",
       "0    23  mv/18 Wheel  driver and passenger        n   \n",
       "1    17       MV/ROR             passenger        n   \n",
       "\n",
       "  Ran Red Light or Stop Sign Suspected Impairment   Type of road  \\\n",
       "0                          n            driver              IH35   \n",
       "1                          n                 none  High Use Road   \n",
       "\n",
       "  Failure to stop and render aid    X coord    Y coord  \n",
       "0                              n -97.707660  30.315355  \n",
       "1                              n -97.817994  30.173921  "
      ]
     },
     "execution_count": 21,
     "metadata": {},
     "output_type": "execute_result"
    }
   ],
   "source": [
    "merge_table3 = pd.merge(merge_table2, organized_file_2015c, on=[\"Type\", \"Number of Fatalities\", \"Location\", \"Date\", \"Hour\", \"Related\", \"Killed driver pass\", \"Speeding\", \"Ran Red Light or Stop Sign\", \"Suspected Impairment\", \"Type of road\", \"Failure to stop and render aid\", \"X coord\", \"Y coord\"], how=\"outer\")\n",
    "merge_table3.head(2)"
   ]
  },
  {
   "cell_type": "code",
   "execution_count": 22,
   "metadata": {},
   "outputs": [
    {
     "data": {
      "text/plain": [
       "array(['MOTOR VEHICLE', 'Motorcycle', 'Pedestrian', 'Bicycle',\n",
       "       'Motor Vehicle'], dtype=object)"
      ]
     },
     "execution_count": 22,
     "metadata": {},
     "output_type": "execute_result"
    }
   ],
   "source": [
    "unique_types = merge_table3[\"Type\"].unique()\n",
    "unique_types"
   ]
  },
  {
   "cell_type": "code",
   "execution_count": 23,
   "metadata": {},
   "outputs": [],
   "source": [
    "merge_table3['Type'] = merge_table3['Type'].str.replace('MOTOR VEHICLE','Motor Vehicle')\n",
    "merge_table3['Speeding'] = merge_table3['Speeding'].str.replace('Y','y')\n",
    "merge_table3['Speeding'] = merge_table3['Speeding'].str.replace('N','n')"
   ]
  },
  {
   "cell_type": "code",
   "execution_count": 24,
   "metadata": {},
   "outputs": [
    {
     "data": {
      "text/html": [
       "<div>\n",
       "<style scoped>\n",
       "    .dataframe tbody tr th:only-of-type {\n",
       "        vertical-align: middle;\n",
       "    }\n",
       "\n",
       "    .dataframe tbody tr th {\n",
       "        vertical-align: top;\n",
       "    }\n",
       "\n",
       "    .dataframe thead th {\n",
       "        text-align: right;\n",
       "    }\n",
       "</style>\n",
       "<table border=\"1\" class=\"dataframe\">\n",
       "  <thead>\n",
       "    <tr style=\"text-align: right;\">\n",
       "      <th></th>\n",
       "      <th>Type</th>\n",
       "      <th>Number of Fatalities</th>\n",
       "      <th>Location</th>\n",
       "      <th>Date</th>\n",
       "      <th>Hour</th>\n",
       "      <th>Related</th>\n",
       "      <th>Killed driver pass</th>\n",
       "      <th>Speeding</th>\n",
       "      <th>Ran Red Light or Stop Sign</th>\n",
       "      <th>Suspected Impairment</th>\n",
       "      <th>Type of road</th>\n",
       "      <th>Failure to stop and render aid</th>\n",
       "      <th>X coord</th>\n",
       "      <th>Y coord</th>\n",
       "    </tr>\n",
       "  </thead>\n",
       "  <tbody>\n",
       "    <tr>\n",
       "      <th>0</th>\n",
       "      <td>Motor Vehicle</td>\n",
       "      <td>2</td>\n",
       "      <td>5600 Block N IH 35 NB</td>\n",
       "      <td>01/04/2018</td>\n",
       "      <td>23</td>\n",
       "      <td>mv/18 Wheel</td>\n",
       "      <td>driver and passenger</td>\n",
       "      <td>n</td>\n",
       "      <td>n</td>\n",
       "      <td>driver</td>\n",
       "      <td>IH35</td>\n",
       "      <td>n</td>\n",
       "      <td>-97.707660</td>\n",
       "      <td>30.315355</td>\n",
       "    </tr>\n",
       "    <tr>\n",
       "      <th>1</th>\n",
       "      <td>Motor Vehicle</td>\n",
       "      <td>1</td>\n",
       "      <td>1500 W Slaughter Ln</td>\n",
       "      <td>01/16/2018</td>\n",
       "      <td>17</td>\n",
       "      <td>MV/ROR</td>\n",
       "      <td>passenger</td>\n",
       "      <td>n</td>\n",
       "      <td>n</td>\n",
       "      <td>none</td>\n",
       "      <td>High Use Road</td>\n",
       "      <td>n</td>\n",
       "      <td>-97.817994</td>\n",
       "      <td>30.173921</td>\n",
       "    </tr>\n",
       "  </tbody>\n",
       "</table>\n",
       "</div>"
      ],
      "text/plain": [
       "            Type  Number of Fatalities               Location        Date  \\\n",
       "0  Motor Vehicle                     2  5600 Block N IH 35 NB  01/04/2018   \n",
       "1  Motor Vehicle                     1    1500 W Slaughter Ln  01/16/2018   \n",
       "\n",
       "   Hour      Related    Killed driver pass Speeding  \\\n",
       "0    23  mv/18 Wheel  driver and passenger        n   \n",
       "1    17       MV/ROR             passenger        n   \n",
       "\n",
       "  Ran Red Light or Stop Sign Suspected Impairment   Type of road  \\\n",
       "0                          n            driver              IH35   \n",
       "1                          n                 none  High Use Road   \n",
       "\n",
       "  Failure to stop and render aid    X coord    Y coord  \n",
       "0                              n -97.707660  30.315355  \n",
       "1                              n -97.817994  30.173921  "
      ]
     },
     "execution_count": 24,
     "metadata": {},
     "output_type": "execute_result"
    }
   ],
   "source": [
    "merge_table3.head(2)"
   ]
  },
  {
   "cell_type": "code",
   "execution_count": 25,
   "metadata": {},
   "outputs": [
    {
     "data": {
      "text/plain": [
       "115"
      ]
     },
     "execution_count": 25,
     "metadata": {},
     "output_type": "execute_result"
    }
   ],
   "source": [
    "evening = merge_table3[merge_table3[\"Hour\"]>=18].count()[\"Type\"]\n",
    "evening"
   ]
  },
  {
   "cell_type": "code",
   "execution_count": 26,
   "metadata": {},
   "outputs": [
    {
     "data": {
      "text/plain": [
       "119"
      ]
     },
     "execution_count": 26,
     "metadata": {},
     "output_type": "execute_result"
    }
   ],
   "source": [
    "night = merge_table3[merge_table3[\"Hour\"]<=6].count()[\"Type\"]\n",
    "night"
   ]
  },
  {
   "cell_type": "code",
   "execution_count": 27,
   "metadata": {},
   "outputs": [
    {
     "data": {
      "text/plain": [
       "161"
      ]
     },
     "execution_count": 27,
     "metadata": {},
     "output_type": "execute_result"
    }
   ],
   "source": [
    "morning = merge_table3[merge_table3[\"Hour\"]<=12].count()[\"Type\"]\n",
    "morning"
   ]
  },
  {
   "cell_type": "code",
   "execution_count": 28,
   "metadata": {},
   "outputs": [
    {
     "data": {
      "text/plain": [
       "212"
      ]
     },
     "execution_count": 28,
     "metadata": {},
     "output_type": "execute_result"
    }
   ],
   "source": [
    "day = merge_table3[merge_table3[\"Hour\"]<=18].count()[\"Type\"]\n",
    "day"
   ]
  },
  {
   "cell_type": "code",
   "execution_count": 29,
   "metadata": {},
   "outputs": [
    {
     "data": {
      "text/plain": [
       "array(['Motor Vehicle', 'Motorcycle', 'Pedestrian', 'Bicycle'],\n",
       "      dtype=object)"
      ]
     },
     "execution_count": 29,
     "metadata": {},
     "output_type": "execute_result"
    }
   ],
   "source": [
    "unique_types = merge_table3[\"Type\"].unique()\n",
    "unique_types"
   ]
  },
  {
   "cell_type": "code",
   "execution_count": 30,
   "metadata": {},
   "outputs": [
    {
     "data": {
      "text/plain": [
       "array(['IH35', 'High Use Road', 'local', 'Other Highway', 'local street',\n",
       "       'I35', 'high use roadway', 'other highway', 'alley',\n",
       "       'High-use roadway', 'Other highway', 'Local Street'], dtype=object)"
      ]
     },
     "execution_count": 30,
     "metadata": {},
     "output_type": "execute_result"
    }
   ],
   "source": [
    "unique_types = merge_table3[\"Type of road\"].unique()\n",
    "unique_types"
   ]
  },
  {
   "cell_type": "code",
   "execution_count": 31,
   "metadata": {},
   "outputs": [
    {
     "data": {
      "text/plain": [
       "36"
      ]
     },
     "execution_count": 31,
     "metadata": {},
     "output_type": "execute_result"
    }
   ],
   "source": [
    "IH35 = merge_table3.loc[merge_table3[\"Type of road\"] == \"IH35\", :].count()[\"Type\"]\n",
    "IH35"
   ]
  },
  {
   "cell_type": "code",
   "execution_count": 32,
   "metadata": {},
   "outputs": [
    {
     "data": {
      "text/plain": [
       "15"
      ]
     },
     "execution_count": 32,
     "metadata": {},
     "output_type": "execute_result"
    }
   ],
   "source": [
    "IH35 = merge_table3.loc[merge_table3[\"Type of road\"] == \"I35\", :].count()[\"Type\"]\n",
    "IH35"
   ]
  },
  {
   "cell_type": "code",
   "execution_count": null,
   "metadata": {},
   "outputs": [],
   "source": []
  },
  {
   "cell_type": "markdown",
   "metadata": {},
   "source": [
    "## Heat MAP - Fatalities "
   ]
  },
  {
   "cell_type": "code",
   "execution_count": 33,
   "metadata": {},
   "outputs": [],
   "source": [
    "import gmaps\n",
    "import pandas as pd\n",
    "\n",
    "# Google developer API key\n",
    "from api_keys import gkey\n",
    "\n",
    "# Configure gmaps\n",
    "gmaps.configure(api_key=gkey)"
   ]
  },
  {
   "cell_type": "code",
   "execution_count": 34,
   "metadata": {},
   "outputs": [],
   "source": [
    "# Store latitude and longitude in locations\n",
    "locations = merge_table3[[\"Y coord\", \"X coord\"]]\n",
    "\n",
    "# Fill NaN values and convert to float\n",
    "fatalities = merge_table3[\"Number of Fatalities\"].astype(float)"
   ]
  },
  {
   "cell_type": "code",
   "execution_count": 35,
   "metadata": {},
   "outputs": [
    {
     "data": {
      "text/html": [
       "<div>\n",
       "<style scoped>\n",
       "    .dataframe tbody tr th:only-of-type {\n",
       "        vertical-align: middle;\n",
       "    }\n",
       "\n",
       "    .dataframe tbody tr th {\n",
       "        vertical-align: top;\n",
       "    }\n",
       "\n",
       "    .dataframe thead th {\n",
       "        text-align: right;\n",
       "    }\n",
       "</style>\n",
       "<table border=\"1\" class=\"dataframe\">\n",
       "  <thead>\n",
       "    <tr style=\"text-align: right;\">\n",
       "      <th></th>\n",
       "      <th>Y coord</th>\n",
       "      <th>X coord</th>\n",
       "    </tr>\n",
       "  </thead>\n",
       "  <tbody>\n",
       "    <tr>\n",
       "      <th>0</th>\n",
       "      <td>30.315355</td>\n",
       "      <td>-97.70766</td>\n",
       "    </tr>\n",
       "  </tbody>\n",
       "</table>\n",
       "</div>"
      ],
      "text/plain": [
       "     Y coord   X coord\n",
       "0  30.315355 -97.70766"
      ]
     },
     "execution_count": 35,
     "metadata": {},
     "output_type": "execute_result"
    }
   ],
   "source": [
    "locations.head(1)"
   ]
  },
  {
   "cell_type": "code",
   "execution_count": 36,
   "metadata": {},
   "outputs": [],
   "source": [
    "# Customize the size of the figure\n",
    "figure_layout = {\n",
    "    'width': '900px',\n",
    "    'height': '800px',\n",
    "    'border': '1px solid black',\n",
    "    'padding': '1px',\n",
    "    'margin': '0 auto 0 auto'\n",
    "}\n",
    "fig = gmaps.figure(layout=figure_layout)"
   ]
  },
  {
   "cell_type": "code",
   "execution_count": 37,
   "metadata": {},
   "outputs": [
    {
     "data": {
      "application/vnd.jupyter.widget-view+json": {
       "model_id": "f2c664fc5493445282260dfc89dba012",
       "version_major": 2,
       "version_minor": 0
      },
      "text/plain": [
       "Figure(layout=FigureLayout(border='1px solid black', height='800px', margin='0 auto 0 auto', padding='1px', wi…"
      ]
     },
     "metadata": {},
     "output_type": "display_data"
    }
   ],
   "source": [
    "# Assign the marker layer to a variable\n",
    "markers = gmaps.marker_layer(locations)\n",
    "# Add the layer to the map\n",
    "fig.add_layer(markers)\n",
    "fig"
   ]
  },
  {
   "cell_type": "code",
   "execution_count": 38,
   "metadata": {},
   "outputs": [
    {
     "data": {
      "application/vnd.jupyter.widget-view+json": {
       "model_id": "7bca3f3345944c4fb2b4aeb6db708c7a",
       "version_major": 2,
       "version_minor": 0
      },
      "text/plain": [
       "Figure(layout=FigureLayout(height='420px'))"
      ]
     },
     "metadata": {},
     "output_type": "display_data"
    }
   ],
   "source": [
    "# Plot Heatmap\n",
    "fig = gmaps.figure()\n",
    "\n",
    "# Create heat layer\n",
    "heat_layer = gmaps.heatmap_layer(locations, weights=fatalities, \n",
    "                                 dissipating=False, max_intensity=5,\n",
    "                                 point_radius=1)\n",
    "\n",
    "\n",
    "# Add layer\n",
    "fig.add_layer(heat_layer)\n",
    "\n",
    "# Display figure\n",
    "fig"
   ]
  },
  {
   "cell_type": "code",
   "execution_count": null,
   "metadata": {},
   "outputs": [],
   "source": []
  },
  {
   "cell_type": "code",
   "execution_count": null,
   "metadata": {},
   "outputs": [],
   "source": []
  },
  {
   "cell_type": "code",
   "execution_count": null,
   "metadata": {},
   "outputs": [],
   "source": []
  }
 ],
 "metadata": {
  "kernelspec": {
   "display_name": "Python 3",
   "language": "python",
   "name": "python3"
  },
  "language_info": {
   "codemirror_mode": {
    "name": "ipython",
    "version": 3
   },
   "file_extension": ".py",
   "mimetype": "text/x-python",
   "name": "python",
   "nbconvert_exporter": "python",
   "pygments_lexer": "ipython3",
   "version": "3.6.7"
  }
 },
 "nbformat": 4,
 "nbformat_minor": 2
}
