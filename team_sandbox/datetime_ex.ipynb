{
 "cells": [
  {
   "cell_type": "code",
   "execution_count": 19,
   "metadata": {},
   "outputs": [
    {
     "name": "stdout",
     "output_type": "stream",
     "text": [
      "xx2019-03-09 08:26:07\n",
      "<class 'pandas._libs.tslibs.timestamps.Timestamp'>\n",
      "2019-03-09 08:26:07\n"
     ]
    }
   ],
   "source": [
    "import datetime\n",
    "import pandas as pd\n",
    "\n",
    "\n",
    "# set up empty lists for filtered data (not_rush_hr)\n",
    "not_rush_hr = []\n",
    "datetime_norush = []\n",
    "date_norush = []\n",
    "time_norush = []\n",
    "issue_norush = []\n",
    "lat_norush = []\n",
    "lng_norush = []\n",
    "\n",
    "\n",
    "def tod(timeinput):\n",
    "  \n",
    "    datetime_object = datetime.datetime.strptime(timeinput, \"%H:%M:%S\")\n",
    "    #print(\"datetime_object =\", datetime_object)\n",
    "    convtime = datetime_object.strftime(\"%H:%M:%S\")\n",
    "    #print(type(convtime))\n",
    "    dtconvtime = pd.to_datetime(convtime)   #put back to datetime\n",
    "    print(f'xx{dtconvtime}')\n",
    "    return dtconvtime\n",
    "    #clocktime = timeinput.strftime('%H:%M:%S')\n",
    "    #clocktime = dt.time()\n",
    "    #print(convtime)\n",
    "    #return date_object\n",
    "    #return datetime.time(\"%H:%M:%S\")\n",
    "\n",
    "#help(datetime)\n",
    "\n",
    "\n",
    "#dts = \"2018-07-24 08:26:07\"\n",
    "#type(dts)\n",
    "am_rush_st = tod(\"08:26:07\")\n",
    "print(type(am_rush_st))\n",
    "print(am_rush_st)\n",
    "\n",
    "#am_rush_end = tod(\"09:00:00\")\n",
    "#pm_rush_st = tod(\"16:00:00\")\n",
    "#pm_rush_end = tod(\"19:00:00\")\n"
   ]
  },
  {
   "cell_type": "code",
   "execution_count": null,
   "metadata": {},
   "outputs": [],
   "source": []
  },
  {
   "cell_type": "code",
   "execution_count": null,
   "metadata": {},
   "outputs": [],
   "source": []
  }
 ],
 "metadata": {
  "kernelspec": {
   "display_name": "Python [conda env:PythonData]",
   "language": "python",
   "name": "pythondata"
  },
  "language_info": {
   "codemirror_mode": {
    "name": "ipython",
    "version": 3
   },
   "file_extension": ".py",
   "mimetype": "text/x-python",
   "name": "python",
   "nbconvert_exporter": "python",
   "pygments_lexer": "ipython3",
   "version": "3.6.7"
  }
 },
 "nbformat": 4,
 "nbformat_minor": 2
}
